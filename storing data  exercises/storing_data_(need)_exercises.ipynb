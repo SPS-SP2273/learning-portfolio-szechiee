{
 "cells": [
  {
   "attachments": {},
   "cell_type": "markdown",
   "id": "123456",
   "metadata": {},
   "source": [
    "<div style=\"text-align:left;font-size:2em\"><span style=\"font-weight:bolder;font-size:1.25em\">SP2273 | Learning Portfolio</span><br><br><span style=\"font-weight:bold;color:darkred\">Storing Data (Need) Exercises</span></div>"
   ]
  },
  {
   "cell_type": "markdown",
   "id": "6778db8f-d10c-415a-ac85-114169b1c7b3",
   "metadata": {},
   "source": [
    "# Exercise 1"
   ]
  },
  {
   "cell_type": "markdown",
   "id": "8451ca77-1d60-4b7b-b93e-7f0ca1a38e81",
   "metadata": {},
   "source": [
    "## 2 similarities between lists and arrays"
   ]
  },
  {
   "cell_type": "markdown",
   "id": "8f06cc3f-0f68-4cf0-a1cd-9e5eda18f01a",
   "metadata": {},
   "source": [
    "Indexing to access variables in the lists and arrays, *can be stored in a 2D configuration*"
   ]
  },
  {
   "cell_type": "markdown",
   "id": "ea09e4e8-2a78-4ab0-a61e-6aadbc9f715f",
   "metadata": {},
   "source": [
    "## 2 differences between lists and arrays"
   ]
  },
  {
   "cell_type": "markdown",
   "id": "41976eba-a925-41f4-bbb4-f5f6cd8dec34",
   "metadata": {},
   "source": [
    "Lists operations mainly target the whole list, while arrays will target each element in the array. Lists can handle different types, but arrays can only tolerate 1 type."
   ]
  },
  {
   "cell_type": "markdown",
   "id": "e1e227c3-2f36-42ec-8bff-211345e0638f",
   "metadata": {},
   "source": [
    "## What is a dictionary?"
   ]
  },
  {
   "cell_type": "markdown",
   "id": "c641b029-ece4-493f-ba67-1f4904f0931d",
   "metadata": {},
   "source": [
    "A dictionary stores information in a key-value pair. The value can be accessed using the key."
   ]
  },
  {
   "cell_type": "markdown",
   "id": "af855840-063e-43c9-b5ba-51499d70de85",
   "metadata": {},
   "source": [
    "# Exercise 2"
   ]
  },
  {
   "cell_type": "code",
   "execution_count": 3,
   "id": "6f17dfdf-97c4-4544-b380-3975606e1e1e",
   "metadata": {},
   "outputs": [
    {
     "name": "stdout",
     "output_type": "stream",
     "text": [
      "a1\n",
      "c3\n",
      "e5\n",
      "g7\n",
      "i9\n"
     ]
    }
   ],
   "source": [
    "py_list = [\"a1\", \"b2\", \"c3\", \"d4\", \"e5\", \"f6\", \"g7\", \"h8\", \"i9\", \"j10\"]\n",
    "def odd_number(lst):\n",
    "    for i in lst:\n",
    "        if int(i[1:])%2:\n",
    "            print(i)\n",
    "odd_number(py_list)"
   ]
  },
  {
   "cell_type": "code",
   "execution_count": 5,
   "id": "b8061587-0200-4d0f-ae60-833a9fddb0f9",
   "metadata": {},
   "outputs": [
    {
     "name": "stdout",
     "output_type": "stream",
     "text": [
      "Boron\n",
      "Boron\n"
     ]
    }
   ],
   "source": [
    "elements = ['Hydrogen',\n",
    "            'Helium', 'Lithium',\n",
    "            'Beryllium', 'Boron', 'Carbon',\n",
    "            'Nitrogen', 'Oxygen',\n",
    "            'Fluorine',\n",
    "            'Neon']\n",
    "print(elements[4])\n",
    "print(elements[-6])"
   ]
  },
  {
   "cell_type": "code",
   "execution_count": 10,
   "id": "1cd5f704-1477-41a0-bcf6-ec5e44a6c455",
   "metadata": {},
   "outputs": [
    {
     "data": {
      "text/plain": [
       "9"
      ]
     },
     "execution_count": 10,
     "metadata": {},
     "output_type": "execute_result"
    }
   ],
   "source": [
    "import numpy as np\n",
    "numbers=[45, 60, 1, 30, 96, 1, 96, 57, 16, 1,\n",
    "        99, 62, 86, 43, 42, 60, 59, 1, 1, 35,\n",
    "        83, 47, 34, 28, 68, 23, 22, 92, 1, 79,\n",
    "        1, 29, 94, 72, 46, 47, 1, 74, 32, 20,\n",
    "        8, 37, 35, 1, 89, 29, 86, 19, 43, 61]\n",
    "np_array = np.array(numbers)\n",
    "value = (np_array == 1)\n",
    "sum(value)"
   ]
  }
 ],
 "metadata": {
  "kernelspec": {
   "display_name": "Python 3 (ipykernel)",
   "language": "python",
   "name": "python3"
  },
  "language_info": {
   "codemirror_mode": {
    "name": "ipython",
    "version": 3
   },
   "file_extension": ".py",
   "mimetype": "text/x-python",
   "name": "python",
   "nbconvert_exporter": "python",
   "pygments_lexer": "ipython3",
   "version": "3.11.5"
  },
  "toc": {
   "base_numbering": 1,
   "nav_menu": {},
   "number_sections": true,
   "sideBar": true,
   "skip_h1_title": false,
   "title_cell": "Table of Contents",
   "title_sidebar": "Contents",
   "toc_cell": false,
   "toc_position": {},
   "toc_section_display": true,
   "toc_window_display": false
  },
  "vscode": {
   "interpreter": {
    "hash": "31f2aee4e71d21fbe5cf8b01ff0e069b9275f58929596ceb00d14d90e3e16cd6"
   }
  }
 },
 "nbformat": 4,
 "nbformat_minor": 5
}
