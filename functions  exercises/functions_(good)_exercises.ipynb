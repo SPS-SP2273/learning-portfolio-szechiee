{
 "cells": [
  {
   "attachments": {},
   "cell_type": "markdown",
   "id": "123456",
   "metadata": {},
   "source": [
    "<div style=\"text-align:left;font-size:2em\"><span style=\"font-weight:bolder;font-size:1.25em\">SP2273 | Learning Portfolio</span><br><br><span style=\"font-weight:bold;color:darkred\">Functions (Good) Exercises</span></div>"
   ]
  },
  {
   "cell_type": "markdown",
   "id": "22f07c2e-7056-435d-8961-75ef4bef6f9d",
   "metadata": {},
   "source": [
    "# Exercise 1"
   ]
  },
  {
   "cell_type": "code",
   "execution_count": 1,
   "id": "591eeaf8-9a2a-4498-9a85-a6a65904300b",
   "metadata": {},
   "outputs": [],
   "source": [
    "def convert_celsius(temperature_celsius, target_scale='Fahrenheit'):\n",
    "    if target_scale=='Fahrenheit':\n",
    "        return temperature_celsius*9/5+32\n",
    "    elif target_scale=='Kelvin':\n",
    "        return temperature_celsius+273.15"
   ]
  },
  {
   "cell_type": "code",
   "execution_count": 2,
   "id": "b7373b9b-2aba-49b8-be44-e62752e6afed",
   "metadata": {},
   "outputs": [
    {
     "data": {
      "text/plain": [
       "32.0"
      ]
     },
     "execution_count": 2,
     "metadata": {},
     "output_type": "execute_result"
    }
   ],
   "source": [
    "convert_celsius(0)"
   ]
  },
  {
   "cell_type": "code",
   "execution_count": 3,
   "id": "eb2e8a83-bcac-4b47-831c-34bb09474b05",
   "metadata": {},
   "outputs": [
    {
     "data": {
      "text/plain": [
       "32.0"
      ]
     },
     "execution_count": 3,
     "metadata": {},
     "output_type": "execute_result"
    }
   ],
   "source": [
    "convert_celsius(0, target_scale='Fahrenheit')"
   ]
  },
  {
   "cell_type": "code",
   "execution_count": 4,
   "id": "441853ac-e1f1-4d2a-a917-67c23aebd403",
   "metadata": {},
   "outputs": [
    {
     "data": {
      "text/plain": [
       "273.15"
      ]
     },
     "execution_count": 4,
     "metadata": {},
     "output_type": "execute_result"
    }
   ],
   "source": [
    "convert_celsius(0, target_scale='Kelvin')"
   ]
  },
  {
   "cell_type": "markdown",
   "id": "df045502-82ff-48d3-b45d-ef0d3adebc3d",
   "metadata": {},
   "source": [
    "# Exercise 2"
   ]
  },
  {
   "cell_type": "code",
   "execution_count": 5,
   "id": "710e2262-d166-4d9f-b58a-f602b0becb17",
   "metadata": {},
   "outputs": [],
   "source": [
    "def convert_fahrenheit(temperature_fahrenheit, target_scale='Celsius'):\n",
    "    if target_scale=='Celsius':\n",
    "        return (temperature_fahrenheit-32)*5/9\n",
    "    elif target_scale=='Kelvin':\n",
    "        return (temperature_fahrenheit-32)*5/9+273.15"
   ]
  },
  {
   "cell_type": "code",
   "execution_count": 9,
   "id": "38527597-2964-4f83-96c9-d4768f49bd73",
   "metadata": {},
   "outputs": [
    {
     "data": {
      "text/plain": [
       "0.0"
      ]
     },
     "execution_count": 9,
     "metadata": {},
     "output_type": "execute_result"
    }
   ],
   "source": [
    "convert_fahrenheit(32)"
   ]
  },
  {
   "cell_type": "code",
   "execution_count": 10,
   "id": "edf2f4d4-94ee-4de4-9ce3-5d2c8eb47dad",
   "metadata": {},
   "outputs": [
    {
     "data": {
      "text/plain": [
       "0.0"
      ]
     },
     "execution_count": 10,
     "metadata": {},
     "output_type": "execute_result"
    }
   ],
   "source": [
    "convert_fahrenheit(32, target_scale='Celsius')"
   ]
  },
  {
   "cell_type": "code",
   "execution_count": 11,
   "id": "bdda1d11-e216-401b-8f8a-f220c0bb5d35",
   "metadata": {},
   "outputs": [
    {
     "data": {
      "text/plain": [
       "273.15"
      ]
     },
     "execution_count": 11,
     "metadata": {},
     "output_type": "execute_result"
    }
   ],
   "source": [
    "convert_fahrenheit(32, target_scale='Kelvin')"
   ]
  },
  {
   "cell_type": "markdown",
   "id": "b7a005b4-c592-41c4-b304-e2b310e6ec70",
   "metadata": {},
   "source": [
    "# Exercise 3"
   ]
  },
  {
   "cell_type": "code",
   "execution_count": 12,
   "id": "ef669fd3-d4f9-4665-b9c8-426726dcd986",
   "metadata": {},
   "outputs": [],
   "source": [
    "def convert_temperature(temperature, source_scale, target_scale):\n",
    "    if source_scale=='Celsius':\n",
    "        return convert_celsius(temperature,target_scale)\n",
    "    elif source_scale=='Fahrenheit':\n",
    "        return convert_fahrenheit(temperature, target_scale)\n",
    "    elif source_scale=='Kelvin':\n",
    "        if target_scale=='Celsius':\n",
    "            return temperature-273.15\n",
    "        elif target_scale=='Fahrenheit':\n",
    "            return (temperature-273.15)*9/5+32"
   ]
  },
  {
   "cell_type": "code",
   "execution_count": 13,
   "id": "af73bcd6-2c70-4c59-b666-35ef6c20e9d5",
   "metadata": {},
   "outputs": [
    {
     "data": {
      "text/plain": [
       "273.15"
      ]
     },
     "execution_count": 13,
     "metadata": {},
     "output_type": "execute_result"
    }
   ],
   "source": [
    "convert_temperature(0,'Celsius','Kelvin')"
   ]
  },
  {
   "cell_type": "code",
   "execution_count": 17,
   "id": "00738b93-0cc8-4b9f-80c1-1bb15bd8512b",
   "metadata": {},
   "outputs": [
    {
     "data": {
      "text/plain": [
       "255.3722222222222"
      ]
     },
     "execution_count": 17,
     "metadata": {},
     "output_type": "execute_result"
    }
   ],
   "source": [
    "convert_temperature(0,'Fahrenheit','Kelvin')"
   ]
  },
  {
   "cell_type": "code",
   "execution_count": 18,
   "id": "5959874a-760b-495b-a88b-64fa2113e8fe",
   "metadata": {},
   "outputs": [
    {
     "data": {
      "text/plain": [
       "-273.15"
      ]
     },
     "execution_count": 18,
     "metadata": {},
     "output_type": "execute_result"
    }
   ],
   "source": [
    "convert_temperature(0,'Kelvin','Celsius')"
   ]
  },
  {
   "cell_type": "code",
   "execution_count": 19,
   "id": "20189eaa-6b7e-4ca5-ab55-325272fccc1e",
   "metadata": {},
   "outputs": [
    {
     "data": {
      "text/plain": [
       "-459.66999999999996"
      ]
     },
     "execution_count": 19,
     "metadata": {},
     "output_type": "execute_result"
    }
   ],
   "source": [
    "convert_temperature(0,'Kelvin','Fahrenheit')"
   ]
  }
 ],
 "metadata": {
  "kernelspec": {
   "display_name": "Python 3 (ipykernel)",
   "language": "python",
   "name": "python3"
  },
  "language_info": {
   "codemirror_mode": {
    "name": "ipython",
    "version": 3
   },
   "file_extension": ".py",
   "mimetype": "text/x-python",
   "name": "python",
   "nbconvert_exporter": "python",
   "pygments_lexer": "ipython3",
   "version": "3.11.5"
  },
  "toc": {
   "base_numbering": 1,
   "nav_menu": {},
   "number_sections": true,
   "sideBar": true,
   "skip_h1_title": false,
   "title_cell": "Table of Contents",
   "title_sidebar": "Contents",
   "toc_cell": false,
   "toc_position": {},
   "toc_section_display": true,
   "toc_window_display": false
  },
  "vscode": {
   "interpreter": {
    "hash": "31f2aee4e71d21fbe5cf8b01ff0e069b9275f58929596ceb00d14d90e3e16cd6"
   }
  }
 },
 "nbformat": 4,
 "nbformat_minor": 5
}
