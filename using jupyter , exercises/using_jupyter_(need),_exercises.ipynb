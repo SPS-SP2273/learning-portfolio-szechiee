{
 "cells": [
  {
   "attachments": {},
   "cell_type": "markdown",
   "id": "123456",
   "metadata": {},
   "source": [
    "<div style=\"text-align:left;font-size:2em\"><span style=\"font-weight:bolder;font-size:1.25em\">SP2273 | Learning Portfolio</span><br><br><span style=\"font-weight:bold;color:darkred\">Using Jupyter (Need), Exercises</span></div>"
   ]
  },
  {
   "cell_type": "markdown",
   "id": "092903ea-5342-43e7-951d-8eda66bb9fcc",
   "metadata": {},
   "source": [
    "# Exercise 1"
   ]
  },
  {
   "attachments": {},
   "cell_type": "markdown",
   "id": "ffda2841",
   "metadata": {},
   "source": [
    "## Quadratic Equations"
   ]
  },
  {
   "attachments": {},
   "cell_type": "markdown",
   "id": "d3db4cb1",
   "metadata": {},
   "source": [
    "### Introduction"
   ]
  },
  {
   "cell_type": "markdown",
   "id": "adce6cdb-79b2-4594-8147-680b0a9f3629",
   "metadata": {},
   "source": [
    "![](https://upload.wikimedia.org/wikipedia/commons/thumb/f/f8/Polynomialdeg2.svg/450px-Polynomialdeg2.svg.png)"
   ]
  },
  {
   "cell_type": "markdown",
   "id": "e1517a5c-fc7a-40d3-bdba-6b72958502b0",
   "metadata": {},
   "source": [
    "*(Image from the [Wikipedia page on Quadratic equations](https://en.wikipedia.org/wiki/Quadratic_equation))*"
   ]
  },
  {
   "cell_type": "markdown",
   "id": "e0ee51b1-94aa-4774-8dbb-c3c194894b51",
   "metadata": {},
   "source": [
    "The general form of a quadratic equation is:"
   ]
  },
  {
   "cell_type": "markdown",
   "id": "b0794a52-de7c-452a-92d0-92f17eb1b15e",
   "metadata": {},
   "source": [
    "$$\n",
    "ax^{2}+bx+c=0\n",
    "$$"
   ]
  },
  {
   "attachments": {},
   "cell_type": "markdown",
   "id": "3d82550b",
   "metadata": {},
   "source": [
    "### Solutions"
   ]
  },
  {
   "cell_type": "markdown",
   "id": "ca834f2a-8704-4145-b691-3420a74390e8",
   "metadata": {},
   "source": [
    "Provided $a \\ne 0$, we can use an elementary algebraic method called [completing the square](https://en.wikipedia.org/wiki/Completing_the_square) to show that a quadratic equation has the following solution:"
   ]
  },
  {
   "cell_type": "markdown",
   "id": "877acb5f-4182-4b6f-901c-095b01b4167c",
   "metadata": {},
   "source": [
    "$\n",
    "x=\\dfrac{-b \\pm \\sqrt{b^{2}-4ac}}{2a}\n",
    "$"
   ]
  },
  {
   "attachments": {},
   "cell_type": "markdown",
   "id": "773f19e3",
   "metadata": {},
   "source": [
    "### Discriminant"
   ]
  },
  {
   "cell_type": "markdown",
   "id": "259d85ce-847a-484a-ab88-b810f6d26fab",
   "metadata": {},
   "source": [
    "The quantity $\\Delta = b^{2}-4ac$ is called the **discriminant** of the equation and decides the nature of its solutions. The table below shows the various possibilities."
   ]
  },
  {
   "cell_type": "markdown",
   "id": "86e485d6-b51f-4a47-ba6e-fdb44b7a183c",
   "metadata": {},
   "source": [
    "|      **Discriminant**      | **Roots**                            |\r\n",
    "|:--------------------------:|--------------------------------------|\r\n",
    "|  $\\Delta = b^{2}-4ac = 0$  | A single solution of $-b/(2a)$       |\r\n",
    "| $\\Delta = b^{2}-4ac \\gt 0$ | Two distinct solutions               |\r\n",
    "| $\\Delta = b^{2}-4ac \\lt 0$ | No real solutions; both are complex. |x. |x. |x. |"
   ]
  },
  {
   "cell_type": "markdown",
   "id": "bed1c242-9ed6-48b2-9acf-37454d28551e",
   "metadata": {},
   "source": [
    "# Exercise 2"
   ]
  },
  {
   "cell_type": "markdown",
   "id": "19217bb8-2b5a-4bb8-92e6-bd7363592d18",
   "metadata": {},
   "source": [
    "**What is a Git repository?**"
   ]
  },
  {
   "cell_type": "markdown",
   "id": "0c52a756-f9cc-4824-aec7-b6806830ffce",
   "metadata": {},
   "source": [
    "It is a central storage location that is used for storing and tracking changes in files placed in the repository."
   ]
  },
  {
   "cell_type": "markdown",
   "id": "9f268593-061e-4e2e-ba3b-af8d368bc3c1",
   "metadata": {},
   "source": [
    "**Git keeps tracks of ____BLANK____ in the files in our repository.**"
   ]
  },
  {
   "cell_type": "markdown",
   "id": "d941ce14-ca73-42bc-af21-28d3e8f88f8c",
   "metadata": {},
   "source": [
    "changes"
   ]
  },
  {
   "cell_type": "markdown",
   "id": "16dca0e9-337d-4357-864e-8879adcd716b",
   "metadata": {},
   "source": [
    "**What is a commit?**"
   ]
  },
  {
   "cell_type": "markdown",
   "id": "a5e4e6c7-435e-4d36-a30d-d495d34ccaf6",
   "metadata": {},
   "source": [
    "It records specific changes to one or more files in your branch."
   ]
  },
  {
   "cell_type": "markdown",
   "id": "a0152749-17c5-4385-a4d0-7038ae6a1251",
   "metadata": {},
   "source": [
    "**What is a push?**"
   ]
  },
  {
   "cell_type": "markdown",
   "id": "6a9fcf68-ac58-482d-b161-3e76224dcd7a",
   "metadata": {},
   "source": [
    "It transfers commits from the local repository stored in my computer to a remote repository, which can be viewed by other developers."
   ]
  },
  {
   "cell_type": "markdown",
   "id": "edc6d678-08d4-4117-9869-0a6dfa14eb2f",
   "metadata": {},
   "source": [
    "**What is a pull?**"
   ]
  },
  {
   "cell_type": "markdown",
   "id": "e19d82fe-f593-4c93-bda0-8ca56525264c",
   "metadata": {},
   "source": [
    "It is used to fetch and download content from a remote repository and immediately update the local repository to match that content."
   ]
  },
  {
   "cell_type": "markdown",
   "id": "e686c8ff-2b3c-46f4-ad01-27a57ee36700",
   "metadata": {},
   "source": [
    "**What is the difference between GitHub and GitHub Desktop?**"
   ]
  },
  {
   "cell_type": "markdown",
   "id": "765cb1b1-6240-4a97-bc77-3223d518a7d1",
   "metadata": {},
   "source": [
    "GitHub is a cloud-based hosting platform that enables developers to manage their Git repositories. GitHub Desktop is an application that lets users interact better with GitHub through a GUI (Graphical User Interface)."
   ]
  }
 ],
 "metadata": {
  "kernelspec": {
   "display_name": "Python 3 (ipykernel)",
   "language": "python",
   "name": "python3"
  },
  "language_info": {
   "codemirror_mode": {
    "name": "ipython",
    "version": 3
   },
   "file_extension": ".py",
   "mimetype": "text/x-python",
   "name": "python",
   "nbconvert_exporter": "python",
   "pygments_lexer": "ipython3",
   "version": "3.11.5"
  },
  "toc": {
   "base_numbering": 1,
   "nav_menu": {},
   "number_sections": true,
   "sideBar": true,
   "skip_h1_title": false,
   "title_cell": "Table of Contents",
   "title_sidebar": "Contents",
   "toc_cell": false,
   "toc_position": {},
   "toc_section_display": true,
   "toc_window_display": false
  },
  "vscode": {
   "interpreter": {
    "hash": "31f2aee4e71d21fbe5cf8b01ff0e069b9275f58929596ceb00d14d90e3e16cd6"
   }
  }
 },
 "nbformat": 4,
 "nbformat_minor": 5
}
