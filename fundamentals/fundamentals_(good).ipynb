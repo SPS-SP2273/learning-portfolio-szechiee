{
 "cells": [
  {
   "attachments": {},
   "cell_type": "markdown",
   "id": "123456",
   "metadata": {},
   "source": [
    "<div style=\"text-align:left;font-size:2em\"><span style=\"font-weight:bolder;font-size:1.25em\">SP2273 | Learning Portfolio</span><br><br><span style=\"font-weight:bold;color:darkred\">Fundamentals (Good)</span></div>"
   ]
  },
  {
   "attachments": {},
   "cell_type": "markdown",
   "id": "9bf9baf2",
   "metadata": {},
   "source": [
    "# There is more to if"
   ]
  },
  {
   "cell_type": "code",
   "execution_count": 1,
   "id": "b8e7ced0-8d36-40aa-9445-7f6be9eeef63",
   "metadata": {},
   "outputs": [
    {
     "name": "stdout",
     "output_type": "stream",
     "text": [
      "Hello Batman!\n"
     ]
    }
   ],
   "source": [
    "name = 'Batman'\n",
    "\n",
    "if name == 'Batman':\n",
    "    print('Hello Batman!')\n",
    "elif name == 'Robin':\n",
    "    print('Hello Sidekick!')\n",
    "else:\n",
    "    print('Hello World!')"
   ]
  },
  {
   "cell_type": "markdown",
   "id": "4443e4af-33f7-4ff8-a923-86d1c77624a5",
   "metadata": {},
   "source": [
    "elif is 'else if'. If the if statement is false, then the elif statement will be run."
   ]
  },
  {
   "attachments": {},
   "cell_type": "markdown",
   "id": "0e4e3aa1",
   "metadata": {},
   "source": [
    "# Asking questions"
   ]
  },
  {
   "cell_type": "code",
   "execution_count": 2,
   "id": "c5ce64f9-0f6e-4729-8e0a-3e6434252f68",
   "metadata": {},
   "outputs": [],
   "source": [
    "fruits = ['apple', 'banana', 'pineapple', 'jackfruit']\n",
    "vegetables = ['celery', 'potato', 'broccoli', 'kale']"
   ]
  },
  {
   "cell_type": "code",
   "execution_count": 3,
   "id": "4e022dd7-cedd-4f2d-895a-acce2f19e33f",
   "metadata": {},
   "outputs": [
    {
     "data": {
      "text/plain": [
       "True"
      ]
     },
     "execution_count": 3,
     "metadata": {},
     "output_type": "execute_result"
    }
   ],
   "source": [
    "'apple' in fruits"
   ]
  },
  {
   "cell_type": "code",
   "execution_count": 4,
   "id": "dc238187-5008-40da-a0a1-5b706b20a083",
   "metadata": {},
   "outputs": [
    {
     "data": {
      "text/plain": [
       "False"
      ]
     },
     "execution_count": 4,
     "metadata": {},
     "output_type": "execute_result"
    }
   ],
   "source": [
    "'peach' in fruits"
   ]
  },
  {
   "cell_type": "code",
   "execution_count": 5,
   "id": "48dee62e-8bc6-4796-80bb-c4d4edf6daa6",
   "metadata": {},
   "outputs": [
    {
     "data": {
      "text/plain": [
       "True"
      ]
     },
     "execution_count": 5,
     "metadata": {},
     "output_type": "execute_result"
    }
   ],
   "source": [
    "'peach' not in fruits"
   ]
  },
  {
   "cell_type": "code",
   "execution_count": 6,
   "id": "30730eff-5d4c-4b3e-adb6-d955a7d107e9",
   "metadata": {},
   "outputs": [
    {
     "data": {
      "text/plain": [
       "True"
      ]
     },
     "execution_count": 6,
     "metadata": {},
     "output_type": "execute_result"
    }
   ],
   "source": [
    "('apple' in fruits) and ('celery' in vegetables)"
   ]
  },
  {
   "cell_type": "code",
   "execution_count": 7,
   "id": "26edc73c-c7f6-4c0c-93f9-a37d963f6761",
   "metadata": {},
   "outputs": [
    {
     "data": {
      "text/plain": [
       "True"
      ]
     },
     "execution_count": 7,
     "metadata": {},
     "output_type": "execute_result"
    }
   ],
   "source": [
    "('apple' in fruits) or ('celery' in vegetables)"
   ]
  },
  {
   "cell_type": "code",
   "execution_count": 8,
   "id": "e694a24f-97d4-4d83-945c-73c4d9552799",
   "metadata": {},
   "outputs": [
    {
     "data": {
      "text/plain": [
       "True"
      ]
     },
     "execution_count": 8,
     "metadata": {},
     "output_type": "execute_result"
    }
   ],
   "source": [
    "'app' in 'apple'"
   ]
  },
  {
   "cell_type": "markdown",
   "id": "4a63cb7f-215e-41d0-94ea-483e9862423b",
   "metadata": {},
   "source": [
    "Python can only compare between things of the same type"
   ]
  },
  {
   "cell_type": "code",
   "execution_count": 9,
   "id": "96a263f4-3e25-44e8-a54b-94ce7782f35a",
   "metadata": {},
   "outputs": [
    {
     "data": {
      "text/plain": [
       "False"
      ]
     },
     "execution_count": 9,
     "metadata": {},
     "output_type": "execute_result"
    }
   ],
   "source": [
    "'apples' > 'oranges'"
   ]
  },
  {
   "cell_type": "markdown",
   "id": "4ea3919a-76db-49ce-b322-cd7d176c8561",
   "metadata": {},
   "source": [
    "A hack for this is: words that appear first in the dictionary are smaller than words that appear later."
   ]
  },
  {
   "cell_type": "markdown",
   "id": "6aebd517-e86e-4b8a-8204-a514fbe29064",
   "metadata": {},
   "source": [
    "Python can compare strings because English letters are internally represented as numbers."
   ]
  },
  {
   "attachments": {},
   "cell_type": "markdown",
   "id": "89290ad7",
   "metadata": {},
   "source": [
    "## Asking Math questions"
   ]
  },
  {
   "cell_type": "markdown",
   "id": "aadac93e-9eec-46c2-9572-a8ea4204eeb8",
   "metadata": {},
   "source": [
    "Equals: =="
   ]
  },
  {
   "cell_type": "markdown",
   "id": "7f3f5843-8423-4ea8-9124-9df5c1b7b90d",
   "metadata": {},
   "source": [
    "Not equal: !="
   ]
  },
  {
   "cell_type": "markdown",
   "id": "da243809-d8d7-4137-a041-58542f0f6dda",
   "metadata": {},
   "source": [
    "Less than: <"
   ]
  },
  {
   "cell_type": "markdown",
   "id": "ad4b1098-704a-4daf-a238-ba60fac82278",
   "metadata": {},
   "source": [
    "More than: >"
   ]
  },
  {
   "cell_type": "markdown",
   "id": "dcb2a11f-6742-409d-bb55-33705182f838",
   "metadata": {},
   "source": [
    "Less than or equal to: <="
   ]
  },
  {
   "cell_type": "markdown",
   "id": "5b876f20-cf9f-4a32-9a82-b11681fdd896",
   "metadata": {},
   "source": [
    "More than or equal to: >="
   ]
  },
  {
   "cell_type": "markdown",
   "id": "b0208634-12b4-4681-971b-a6936648960d",
   "metadata": {},
   "source": [
    "```python\n",
    "x>5 and x<15\n",
    "(x>5) and (x<15)\n",
    "5<x<15"
   ]
  },
  {
   "attachments": {},
   "cell_type": "markdown",
   "id": "be198e97",
   "metadata": {},
   "source": [
    "# Python stores information in different formats or types"
   ]
  },
  {
   "cell_type": "code",
   "execution_count": 11,
   "id": "cefe087c-5026-4193-9f46-bc0c1983e1c9",
   "metadata": {},
   "outputs": [
    {
     "name": "stdout",
     "output_type": "stream",
     "text": [
      "1 <class 'int'>\n"
     ]
    }
   ],
   "source": [
    "x = int(1.234)\n",
    "print(x, type(x))"
   ]
  },
  {
   "cell_type": "markdown",
   "id": "c2d81be7-8a1a-47d1-ae8b-b3eb4c8da2ab",
   "metadata": {},
   "source": [
    "No more decimals"
   ]
  },
  {
   "cell_type": "code",
   "execution_count": 12,
   "id": "e6e6f4c5-e855-422f-8f69-45ca54995d0e",
   "metadata": {},
   "outputs": [
    {
     "name": "stdout",
     "output_type": "stream",
     "text": [
      "1.234 <class 'str'>\n"
     ]
    }
   ],
   "source": [
    "x = str(1.234)\n",
    "print(x, type(x))"
   ]
  },
  {
   "cell_type": "code",
   "execution_count": 13,
   "id": "becee9f1-a9ec-436a-b72e-0e4545c87960",
   "metadata": {},
   "outputs": [
    {
     "name": "stdout",
     "output_type": "stream",
     "text": [
      "1.234 <class 'float'>\n"
     ]
    }
   ],
   "source": [
    "x = float(1.234)\n",
    "print(x, type(x))"
   ]
  },
  {
   "cell_type": "code",
   "execution_count": 14,
   "id": "694c2cf2-5f04-4ee2-bb2c-a7d58f6b9a41",
   "metadata": {},
   "outputs": [
    {
     "name": "stdout",
     "output_type": "stream",
     "text": [
      "(1.234+0j) <class 'complex'>\n"
     ]
    }
   ],
   "source": [
    "x = complex(1.234)\n",
    "print(x, type(x))"
   ]
  },
  {
   "cell_type": "markdown",
   "id": "89309474-2caa-43b5-96bf-0887fc407bb5",
   "metadata": {},
   "source": [
    "Includes an imaginary part of the number"
   ]
  },
  {
   "cell_type": "code",
   "execution_count": 15,
   "id": "d304bf82-849b-4bb1-841b-56fde20e053b",
   "metadata": {},
   "outputs": [
    {
     "name": "stdout",
     "output_type": "stream",
     "text": [
      "1.234 <class 'str'>\n"
     ]
    }
   ],
   "source": [
    "x = '1.234'        #string\n",
    "print(x, type(x))"
   ]
  },
  {
   "cell_type": "code",
   "execution_count": 16,
   "id": "48907e60-27e2-4b89-af76-9f697ec7bb20",
   "metadata": {},
   "outputs": [
    {
     "name": "stdout",
     "output_type": "stream",
     "text": [
      "1.234 <class 'float'>\n"
     ]
    }
   ],
   "source": [
    "x = float(x)       # x is now a decimal number or float\n",
    "print(x, type(x))"
   ]
  },
  {
   "attachments": {},
   "cell_type": "markdown",
   "id": "a47199f7",
   "metadata": {},
   "source": [
    "# Never compare floats directly"
   ]
  },
  {
   "attachments": {},
   "cell_type": "markdown",
   "id": "2342eb2b",
   "metadata": {},
   "source": [
    "## The Problem"
   ]
  },
  {
   "cell_type": "code",
   "execution_count": 17,
   "id": "f98d4daa-9057-418c-9ecc-41fcb8df699c",
   "metadata": {},
   "outputs": [
    {
     "data": {
      "text/plain": [
       "False"
      ]
     },
     "execution_count": 17,
     "metadata": {},
     "output_type": "execute_result"
    }
   ],
   "source": [
    "a=0.1\n",
    "a3=0.3\n",
    "a*3==a3"
   ]
  },
  {
   "cell_type": "code",
   "execution_count": 18,
   "id": "85d8f23a-b025-4323-ac4a-e7d0b6f26086",
   "metadata": {},
   "outputs": [
    {
     "data": {
      "text/plain": [
       "'0.29999999999999999'"
      ]
     },
     "execution_count": 18,
     "metadata": {},
     "output_type": "execute_result"
    }
   ],
   "source": [
    "f'{0.3:.17f}'"
   ]
  },
  {
   "attachments": {},
   "cell_type": "markdown",
   "id": "4a0e64f1",
   "metadata": {},
   "source": [
    "## A solution"
   ]
  },
  {
   "cell_type": "code",
   "execution_count": 19,
   "id": "1e6edcdb-4de6-474d-8448-69c02425f74a",
   "metadata": {},
   "outputs": [
    {
     "data": {
      "text/plain": [
       "True"
      ]
     },
     "execution_count": 19,
     "metadata": {},
     "output_type": "execute_result"
    }
   ],
   "source": [
    "eps = 1E-10\n",
    "abs(a*3-a3)<eps"
   ]
  },
  {
   "cell_type": "code",
   "execution_count": 20,
   "id": "63a3b832-0fc5-4379-8ed2-07f3bc87f377",
   "metadata": {},
   "outputs": [
    {
     "data": {
      "text/plain": [
       "True"
      ]
     },
     "execution_count": 20,
     "metadata": {},
     "output_type": "execute_result"
    }
   ],
   "source": [
    "import numpy as np\n",
    "np.isclose(a * 3, a3)"
   ]
  },
  {
   "attachments": {},
   "cell_type": "markdown",
   "id": "debe8f36",
   "metadata": {},
   "source": [
    "# Combining English and variables"
   ]
  },
  {
   "attachments": {},
   "cell_type": "markdown",
   "id": "970c3e06",
   "metadata": {},
   "source": [
    "## Structure of f-strings"
   ]
  },
  {
   "cell_type": "code",
   "execution_count": 21,
   "id": "b80f1a9b-e8e7-4607-898f-eda0ea6f1a26",
   "metadata": {},
   "outputs": [
    {
     "name": "stdout",
     "output_type": "stream",
     "text": [
      "Hello Batman!\n"
     ]
    }
   ],
   "source": [
    "name = \"Batman\"\n",
    "print(f\"Hello {name}!\")"
   ]
  },
  {
   "cell_type": "code",
   "execution_count": 22,
   "id": "41d6373c-7deb-41c9-a713-fb1f6617c6a9",
   "metadata": {},
   "outputs": [
    {
     "name": "stdout",
     "output_type": "stream",
     "text": [
      "Hello BATMAN!\n"
     ]
    }
   ],
   "source": [
    "name = \"Batman\"\n",
    "print(f\"Hello {name.upper()}!\")"
   ]
  },
  {
   "cell_type": "code",
   "execution_count": 23,
   "id": "592e0f6d-aaf6-4e48-97c5-c2ef309698f0",
   "metadata": {},
   "outputs": [
    {
     "name": "stdout",
     "output_type": "stream",
     "text": [
      "The value of 10 squared is 100!\n"
     ]
    }
   ],
   "source": [
    "x = 10\n",
    "print(f\"The value of {x} squared is {x**2}!\")"
   ]
  },
  {
   "cell_type": "markdown",
   "id": "141d3705-500f-4357-822a-d1fb007d3a9e",
   "metadata": {},
   "source": [
    "f-string formatting has the structure {X:0Y.ZW}"
   ]
  },
  {
   "cell_type": "markdown",
   "id": "515d8aa5-61a6-4795-89d7-34a3b009f752",
   "metadata": {},
   "source": [
    "| **Letter** | **Term**                       | **Brief description**                                             |\r\n",
    "|------------|--------------------------------|-------------------------------------------------------------------|\r\n",
    "| X          | Variable to format             | Can be a number or string                                         |\r\n",
    "| >          | Alignment                      | < (Left justified) > (Right justified) ^ (Centre justified)       |\r\n",
    "| 0          | Use 0's to pad the spaces      | Can use other characters like a space                             |\r\n",
    "| Y          | Total number of characters     |                                                                   |\r\n",
    "| Z          | Number of decimal places       |                                                                   |\r\n",
    "| W          | Specifies the type of variable | f (float) d (integer) s (string) g (Asks Python to figure it out) |"
   ]
  },
  {
   "cell_type": "markdown",
   "id": "fd041eb2-824d-4cde-8437-660aaca757fa",
   "metadata": {},
   "source": [
    "### Formatting of texts using f-strings"
   ]
  },
  {
   "cell_type": "code",
   "execution_count": 24,
   "id": "e6cca5d7-ee21-48fe-9c4a-7087d27e2c41",
   "metadata": {},
   "outputs": [
    {
     "name": "stdout",
     "output_type": "stream",
     "text": [
      "Bruce Wayne is Batman.\n"
     ]
    }
   ],
   "source": [
    "text = 'Bruce Wayne is Batman.'\n",
    "print(f'{text}')"
   ]
  },
  {
   "cell_type": "code",
   "execution_count": 25,
   "id": "e136705d-54eb-4ffe-90eb-08348c314589",
   "metadata": {},
   "outputs": [
    {
     "name": "stdout",
     "output_type": "stream",
     "text": [
      "        Bruce Wayne is Batman.\n"
     ]
    }
   ],
   "source": [
    "print(f'{text:>30}')      # A block of 30 characters;\n",
    "                          # aligned right"
   ]
  },
  {
   "cell_type": "code",
   "execution_count": 26,
   "id": "5352061a-0774-4dd0-9c0d-4ad2d56b7ee7",
   "metadata": {},
   "outputs": [
    {
     "name": "stdout",
     "output_type": "stream",
     "text": [
      "    Bruce Wayne is Batman.    \n"
     ]
    }
   ],
   "source": [
    "print(f'{text:^30}')      # A block of 30 characters;\n",
    "                          # aligned centre"
   ]
  },
  {
   "cell_type": "code",
   "execution_count": 27,
   "id": "f4852498-0380-4d45-9ba9-93b70cb58c14",
   "metadata": {},
   "outputs": [
    {
     "name": "stdout",
     "output_type": "stream",
     "text": [
      "Bruce Wayne is Batman.        \n"
     ]
    }
   ],
   "source": [
    "print(f'{text:<30}')      # A block of 30 characters;\n",
    "                          # aligned left"
   ]
  },
  {
   "cell_type": "markdown",
   "id": "b2b0cd6e-f26c-4a2c-99e0-6fafbbabaf39",
   "metadata": {},
   "source": [
    "### Formatting of numbers using f-strings"
   ]
  },
  {
   "cell_type": "code",
   "execution_count": 28,
   "id": "522dd213-82e5-4285-9367-924a99ec0231",
   "metadata": {},
   "outputs": [
    {
     "name": "stdout",
     "output_type": "stream",
     "text": [
      "The cube of pi to 6 decimal places is 31.006277\n"
     ]
    }
   ],
   "source": [
    "print(f'The cube of pi to 6 decimal places is {np.pi**3:.6f}')"
   ]
  },
  {
   "cell_type": "markdown",
   "id": "e70a8fcd-35aa-4958-987d-9c38947c6694",
   "metadata": {},
   "source": [
    "f in .6f is used to output the number in decimal notation. 6 in .6f is to put the number in 6dp."
   ]
  },
  {
   "cell_type": "code",
   "execution_count": 29,
   "id": "defff549-b2a0-4c2a-a0f5-8d3e107558b8",
   "metadata": {},
   "outputs": [
    {
     "name": "stdout",
     "output_type": "stream",
     "text": [
      "The cube of pi to 6 decimal places is 3.100628e+01\n"
     ]
    }
   ],
   "source": [
    "print(f'The cube of pi to 6 decimal places is {np.pi**3:.6e}')"
   ]
  },
  {
   "cell_type": "markdown",
   "id": "95f49283-451c-4ed4-a923-d897b8a6a729",
   "metadata": {},
   "source": [
    "e in .6e is used to output the number in scientific notation."
   ]
  },
  {
   "attachments": {},
   "cell_type": "markdown",
   "id": "55d71d57",
   "metadata": {},
   "source": [
    "# Escape sequences"
   ]
  },
  {
   "cell_type": "code",
   "execution_count": 30,
   "id": "c1c71f4d-6467-4e07-97d6-9d549dfb0d19",
   "metadata": {},
   "outputs": [
    {
     "name": "stdout",
     "output_type": "stream",
     "text": [
      "Line 1\n",
      "\tLine 2\n",
      "\t\tLine 3\n"
     ]
    }
   ],
   "source": [
    "print('Line 1\\n\\tLine 2\\n\\t\\tLine 3')"
   ]
  },
  {
   "cell_type": "markdown",
   "id": "6dca7aa3-847c-4e52-8a85-96466d3f5245",
   "metadata": {},
   "source": [
    "| **Escape Sequence** | **Meaning**    |\r\n",
    "|---------------------|----------------|\r\n",
    "\\\"\\ \"                 | Single quote   |\r\n",
    "| \\\\                  | Backslash      |\r\n",
    "| \\n                  | Newline        |\r\n",
    "| \\t                  | Horizontal tab |tab |tab |"
   ]
  },
  {
   "cell_type": "code",
   "execution_count": 31,
   "id": "31c4031a-1539-471d-92d6-01b1b3e1d799",
   "metadata": {},
   "outputs": [
    {
     "name": "stdout",
     "output_type": "stream",
     "text": [
      "You're twenty years old.\n"
     ]
    }
   ],
   "source": [
    "print('You\\'re twenty years old.')"
   ]
  },
  {
   "cell_type": "markdown",
   "id": "a80f6fd1-03ce-4cdf-945b-721cf3dd6652",
   "metadata": {},
   "source": [
    "For single quote"
   ]
  },
  {
   "cell_type": "code",
   "execution_count": 32,
   "id": "22b29b31-f64a-488e-83f1-2685005b5eda",
   "metadata": {},
   "outputs": [
    {
     "name": "stdout",
     "output_type": "stream",
     "text": [
      "A\\B\\C\n"
     ]
    }
   ],
   "source": [
    "print('A\\\\B\\\\C')"
   ]
  },
  {
   "cell_type": "markdown",
   "id": "89714022-2904-4b5b-85a7-b36424213c58",
   "metadata": {},
   "source": [
    "For printing \\"
   ]
  },
  {
   "cell_type": "code",
   "execution_count": 33,
   "id": "eee28582-9e70-45d2-8837-600b1485ee3c",
   "metadata": {},
   "outputs": [
    {
     "name": "stdout",
     "output_type": "stream",
     "text": [
      "A\n",
      "B\n",
      "C\n"
     ]
    }
   ],
   "source": [
    "print('A\\nB\\nC')"
   ]
  },
  {
   "cell_type": "markdown",
   "id": "30c89c52-9862-44a4-9990-f1d264505c24",
   "metadata": {},
   "source": [
    "Linebreaks with \\n"
   ]
  },
  {
   "cell_type": "code",
   "execution_count": 34,
   "id": "452bf469-69d8-4b95-a2f3-83caef50d25f",
   "metadata": {},
   "outputs": [
    {
     "name": "stdout",
     "output_type": "stream",
     "text": [
      "A\tB\tC\n"
     ]
    }
   ],
   "source": [
    "print('A\\tB\\tC')"
   ]
  },
  {
   "cell_type": "markdown",
   "id": "d2b06fba-2f37-4cd5-a40d-0b1e87a2b90f",
   "metadata": {},
   "source": [
    "Tabs with \\t"
   ]
  },
  {
   "attachments": {},
   "cell_type": "markdown",
   "id": "e16a9b3b",
   "metadata": {},
   "source": [
    "# Computers read = from Right to Left!"
   ]
  },
  {
   "cell_type": "code",
   "execution_count": 35,
   "id": "5adc0a7a-e134-4086-90ef-21a195750502",
   "metadata": {},
   "outputs": [
    {
     "name": "stdout",
     "output_type": "stream",
     "text": [
      "42\n"
     ]
    }
   ],
   "source": [
    "y = 40\n",
    "y = y + 2\n",
    "print(y)"
   ]
  },
  {
   "cell_type": "markdown",
   "id": "cd22c0c0-f71b-4055-98e0-5c5a8570b980",
   "metadata": {},
   "source": [
    "Works in programming but not math"
   ]
  },
  {
   "cell_type": "code",
   "execution_count": 36,
   "id": "da9b7a55-0b47-4bd7-9d3c-30edb1ad0a17",
   "metadata": {},
   "outputs": [],
   "source": [
    "x = y = 10"
   ]
  },
  {
   "attachments": {},
   "cell_type": "markdown",
   "id": "fca77c5a",
   "metadata": {},
   "source": [
    "# Shorter and Cleaner Code"
   ]
  },
  {
   "cell_type": "code",
   "execution_count": 38,
   "id": "87bd727b-1608-4764-b715-fa87ff361cbb",
   "metadata": {},
   "outputs": [
    {
     "name": "stdout",
     "output_type": "stream",
     "text": [
      "42\n",
      "42\n"
     ]
    }
   ],
   "source": [
    "y = 40\n",
    "y = y + 2\n",
    "print(y)\n",
    "y = 40\n",
    "y += 2    # Same as y = y + 2\n",
    "print(y)"
   ]
  },
  {
   "cell_type": "markdown",
   "id": "80b4e5a2-f4b0-4f97-99d3-9c7fa7891c2e",
   "metadata": {},
   "source": [
    "```python\n",
    "y+=2 #y=y+2\n",
    "y-=2 #y=y-2\n",
    "y*=2 #y=y*2\n",
    "y/=2 #y=y/2"
   ]
  },
  {
   "attachments": {},
   "cell_type": "markdown",
   "id": "542e53f6",
   "metadata": {},
   "source": [
    "# Best Practices for Scientific Computing"
   ]
  },
  {
   "cell_type": "markdown",
   "id": "bb978d10-0098-4c10-ac0b-26ecad252271",
   "metadata": {},
   "source": [
    "1. Write programs for people!\n",
    "2. Optimise software only after it works correctly.\n",
    "3. Document design and purpose.\n",
    "4. COLLABORATE!!"
   ]
  }
 ],
 "metadata": {
  "kernelspec": {
   "display_name": "Python 3 (ipykernel)",
   "language": "python",
   "name": "python3"
  },
  "language_info": {
   "codemirror_mode": {
    "name": "ipython",
    "version": 3
   },
   "file_extension": ".py",
   "mimetype": "text/x-python",
   "name": "python",
   "nbconvert_exporter": "python",
   "pygments_lexer": "ipython3",
   "version": "3.11.5"
  },
  "toc": {
   "base_numbering": 1,
   "nav_menu": {},
   "number_sections": true,
   "sideBar": true,
   "skip_h1_title": false,
   "title_cell": "Table of Contents",
   "title_sidebar": "Contents",
   "toc_cell": false,
   "toc_position": {},
   "toc_section_display": true,
   "toc_window_display": false
  },
  "vscode": {
   "interpreter": {
    "hash": "31f2aee4e71d21fbe5cf8b01ff0e069b9275f58929596ceb00d14d90e3e16cd6"
   }
  }
 },
 "nbformat": 4,
 "nbformat_minor": 5
}
