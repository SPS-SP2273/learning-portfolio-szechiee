{
 "cells": [
  {
   "attachments": {},
   "cell_type": "markdown",
   "id": "123456",
   "metadata": {},
   "source": [
    "<div style=\"text-align:left;font-size:2em\"><span style=\"font-weight:bolder;font-size:1.25em\">SP2273 | Learning Portfolio</span><br><br><span style=\"font-weight:bold;color:darkred\">Fundamentals (Need)</span></div>"
   ]
  },
  {
   "attachments": {},
   "cell_type": "markdown",
   "id": "da824c70",
   "metadata": {},
   "source": [
    "# Functions"
   ]
  },
  {
   "cell_type": "code",
   "execution_count": 1,
   "id": "6e6b7962-8d5d-45cb-b76c-4b951c756bc5",
   "metadata": {},
   "outputs": [
    {
     "name": "stdout",
     "output_type": "stream",
     "text": [
      "Hello world!\n"
     ]
    }
   ],
   "source": [
    "print('Hello world!')"
   ]
  },
  {
   "attachments": {},
   "cell_type": "markdown",
   "id": "4561aa8a",
   "metadata": {},
   "source": [
    "# Python is interpreted"
   ]
  },
  {
   "cell_type": "code",
   "execution_count": 3,
   "id": "c20ec40d-0878-4879-9097-ad1041f1af59",
   "metadata": {},
   "outputs": [
    {
     "name": "stdout",
     "output_type": "stream",
     "text": [
      "Hello World\n",
      "Hello World again\n"
     ]
    }
   ],
   "source": [
    "print('Hello World')\n",
    "print('Hello World again')"
   ]
  },
  {
   "attachments": {},
   "cell_type": "markdown",
   "id": "8efc6b07",
   "metadata": {},
   "source": [
    "# Python is sensitive."
   ]
  },
  {
   "cell_type": "code",
   "execution_count": 4,
   "id": "c74600be-1efe-458d-a3e7-fd6f1e37992c",
   "metadata": {},
   "outputs": [
    {
     "name": "stdout",
     "output_type": "stream",
     "text": [
      "Hello World\n"
     ]
    },
    {
     "ename": "NameError",
     "evalue": "name 'Print' is not defined",
     "output_type": "error",
     "traceback": [
      "\u001b[1;31m---------------------------------------------------------------------------\u001b[0m",
      "\u001b[1;31mNameError\u001b[0m                                 Traceback (most recent call last)",
      "Cell \u001b[1;32mIn[4], line 2\u001b[0m\n\u001b[0;32m      1\u001b[0m \u001b[38;5;28mprint\u001b[39m(\u001b[38;5;124m'\u001b[39m\u001b[38;5;124mHello World\u001b[39m\u001b[38;5;124m'\u001b[39m)\n\u001b[1;32m----> 2\u001b[0m \u001b[43mPrint\u001b[49m(\u001b[38;5;124m'\u001b[39m\u001b[38;5;124mHello World\u001b[39m\u001b[38;5;124m'\u001b[39m)\n",
      "\u001b[1;31mNameError\u001b[0m: name 'Print' is not defined"
     ]
    }
   ],
   "source": [
    "print('Hello World')\n",
    "Print('Hello World')"
   ]
  },
  {
   "attachments": {},
   "cell_type": "markdown",
   "id": "70486cff",
   "metadata": {},
   "source": [
    "# Comments"
   ]
  },
  {
   "cell_type": "code",
   "execution_count": 8,
   "id": "3dd8270c-73c6-47c8-a38c-3c6216e1d3a2",
   "metadata": {},
   "outputs": [
    {
     "name": "stdout",
     "output_type": "stream",
     "text": [
      "One\n",
      "Three\n"
     ]
    }
   ],
   "source": [
    "# hello \n",
    "print('One')        #more comments\n",
    "# print('Two')\n",
    "print('Three')"
   ]
  },
  {
   "attachments": {},
   "cell_type": "markdown",
   "id": "81c28d8b",
   "metadata": {},
   "source": [
    "# = is not the same as =="
   ]
  },
  {
   "cell_type": "code",
   "execution_count": 9,
   "id": "bd1cf371-9cef-4b6d-ac80-8caca696cf2e",
   "metadata": {},
   "outputs": [
    {
     "data": {
      "text/plain": [
       "True"
      ]
     },
     "execution_count": 9,
     "metadata": {},
     "output_type": "execute_result"
    }
   ],
   "source": [
    "name = 'Batman'\n",
    "name == 'Batman' #True"
   ]
  },
  {
   "cell_type": "markdown",
   "id": "4a5a876e-c30f-450d-840c-641bef6511ac",
   "metadata": {},
   "source": [
    "'=' assigns a value to a variable (in this case, name)"
   ]
  },
  {
   "cell_type": "markdown",
   "id": "e805d611-3073-4f92-a005-d1c08877ff2f",
   "metadata": {},
   "source": [
    "'==' compares whether the value of the left and right variables are the same."
   ]
  },
  {
   "attachments": {},
   "cell_type": "markdown",
   "id": "131880a3",
   "metadata": {},
   "source": [
    "# Use if to make decisions"
   ]
  },
  {
   "cell_type": "code",
   "execution_count": 10,
   "id": "a45bd458-a4ca-4105-bb9b-fb63d5cd7df8",
   "metadata": {},
   "outputs": [
    {
     "name": "stdout",
     "output_type": "stream",
     "text": [
      "Hello Batman!\n"
     ]
    }
   ],
   "source": [
    "name = 'Batman'\n",
    "\n",
    "if name=='Batman':\n",
    "    print('Hello Batman!')\n",
    "else:\n",
    "    print('Hello World!')"
   ]
  },
  {
   "cell_type": "markdown",
   "id": "9af796c5-a507-4b31-9a35-c486a4371c2f",
   "metadata": {},
   "source": [
    "The indented block will only run if the if statement is True, if not the else block will be run."
   ]
  },
  {
   "attachments": {},
   "cell_type": "markdown",
   "id": "7a0c3d0e",
   "metadata": {},
   "source": [
    "# Indentations (spaces) are sooo IMPORTANT!"
   ]
  },
  {
   "cell_type": "code",
   "execution_count": 12,
   "id": "84b100b9-9a12-4bb5-a803-bd960e95269e",
   "metadata": {},
   "outputs": [
    {
     "name": "stdout",
     "output_type": "stream",
     "text": [
      "10\n"
     ]
    }
   ],
   "source": [
    "x=10\n",
    "print(x)"
   ]
  },
  {
   "cell_type": "code",
   "execution_count": 13,
   "id": "fdca12cc-70b7-4a9d-9394-404b2667cc06",
   "metadata": {},
   "outputs": [
    {
     "ename": "IndentationError",
     "evalue": "unexpected indent (186375093.py, line 2)",
     "output_type": "error",
     "traceback": [
      "\u001b[1;36m  Cell \u001b[1;32mIn[13], line 2\u001b[1;36m\u001b[0m\n\u001b[1;33m    print(x)\u001b[0m\n\u001b[1;37m    ^\u001b[0m\n\u001b[1;31mIndentationError\u001b[0m\u001b[1;31m:\u001b[0m unexpected indent\n"
     ]
    }
   ],
   "source": [
    "x=10\n",
    "    print(x)"
   ]
  },
  {
   "attachments": {},
   "cell_type": "markdown",
   "id": "2bef20c0",
   "metadata": {},
   "source": [
    "# ‘age’ is English, age is a variable."
   ]
  },
  {
   "cell_type": "code",
   "execution_count": 14,
   "id": "f96d7265-24c1-4428-8904-aa3d068635d2",
   "metadata": {},
   "outputs": [
    {
     "name": "stdout",
     "output_type": "stream",
     "text": [
      "24\n",
      "age\n"
     ]
    }
   ],
   "source": [
    "age=24\n",
    "print(age) #prints the value of age\n",
    "print('age') #prints the string 'age'"
   ]
  },
  {
   "attachments": {},
   "cell_type": "markdown",
   "id": "ffe155e1",
   "metadata": {},
   "source": [
    "# Brackets"
   ]
  },
  {
   "cell_type": "code",
   "execution_count": 27,
   "id": "cf151833-6252-4de1-9307-313461b5a051",
   "metadata": {},
   "outputs": [
    {
     "name": "stdout",
     "output_type": "stream",
     "text": [
      "Hello!\n",
      "15\n",
      "DC\n"
     ]
    }
   ],
   "source": [
    "print('Hello!')\n",
    "print((1+2)*5)\n",
    "\n",
    "lst = [1,2,3,4,5]\n",
    "lst2=[[1,2],[\"a\",\"b\"],[5,7]] #list containing 3 lists\n",
    "\n",
    "dct = {'Name':'Batman', 'Real Name':'Bruce Wayne', 'Age':55, 'Affiliation':'Justice League', 'Universe':'DC'}\n",
    "print(dct['Universe'])"
   ]
  },
  {
   "attachments": {},
   "cell_type": "markdown",
   "id": "afecbb34",
   "metadata": {},
   "source": [
    "# Giving Python superpowers with Packages"
   ]
  },
  {
   "attachments": {},
   "cell_type": "markdown",
   "id": "b65f248b",
   "metadata": {},
   "source": [
    "## Some Context"
   ]
  },
  {
   "cell_type": "code",
   "execution_count": 29,
   "id": "eaf4ba41-4378-4ed9-9a01-396934840eb7",
   "metadata": {
    "scrolled": true
   },
   "outputs": [
    {
     "name": "stdout",
     "output_type": "stream",
     "text": [
      "40.5\n"
     ]
    }
   ],
   "source": [
    "print((1*((2-3)+4)**5)/6)"
   ]
  },
  {
   "attachments": {},
   "cell_type": "markdown",
   "id": "02f1ca19",
   "metadata": {},
   "source": [
    "## Importing the math package"
   ]
  },
  {
   "cell_type": "code",
   "execution_count": 30,
   "id": "d148b9ad-13ef-4410-8b56-c338aa78c52f",
   "metadata": {},
   "outputs": [
    {
     "name": "stdout",
     "output_type": "stream",
     "text": [
      "2.0\n"
     ]
    }
   ],
   "source": [
    "import math\n",
    "print(math.sqrt(4))"
   ]
  },
  {
   "attachments": {},
   "cell_type": "markdown",
   "id": "e4e3f2b3",
   "metadata": {},
   "source": [
    "## Importing the numpy package"
   ]
  },
  {
   "cell_type": "code",
   "execution_count": 22,
   "id": "3463dbcd-f6d4-49a5-9691-49779d24ffc7",
   "metadata": {},
   "outputs": [
    {
     "name": "stdout",
     "output_type": "stream",
     "text": [
      "2.0\n"
     ]
    }
   ],
   "source": [
    "import numpy as np\n",
    "print(np.sqrt(4))"
   ]
  },
  {
   "attachments": {},
   "cell_type": "markdown",
   "id": "e9c2a758",
   "metadata": {},
   "source": [
    "## Why so many packages?"
   ]
  },
  {
   "cell_type": "code",
   "execution_count": 31,
   "id": "2fd40a4a-2fd1-42e7-bf75-26e70475916a",
   "metadata": {},
   "outputs": [
    {
     "data": {
      "text/plain": [
       "array([2., 3., 4.])"
      ]
     },
     "execution_count": 31,
     "metadata": {},
     "output_type": "execute_result"
    }
   ],
   "source": [
    "np.sqrt([4,9,16])"
   ]
  },
  {
   "cell_type": "markdown",
   "id": "a746cf0a-d7e9-4037-a434-25f1571f6b19",
   "metadata": {},
   "source": [
    "## The dot (.)"
   ]
  },
  {
   "cell_type": "code",
   "execution_count": null,
   "id": "d8a4fc46-6533-426b-815e-c3f6b2f4d9bc",
   "metadata": {},
   "outputs": [],
   "source": [
    "'I am"
   ]
  },
  {
   "attachments": {},
   "cell_type": "markdown",
   "id": "02db1820",
   "metadata": {},
   "source": [
    "## Footnotes"
   ]
  }
 ],
 "metadata": {
  "kernelspec": {
   "display_name": "Python 3 (ipykernel)",
   "language": "python",
   "name": "python3"
  },
  "language_info": {
   "codemirror_mode": {
    "name": "ipython",
    "version": 3
   },
   "file_extension": ".py",
   "mimetype": "text/x-python",
   "name": "python",
   "nbconvert_exporter": "python",
   "pygments_lexer": "ipython3",
   "version": "3.11.5"
  },
  "toc": {
   "base_numbering": 1,
   "nav_menu": {},
   "number_sections": true,
   "sideBar": true,
   "skip_h1_title": false,
   "title_cell": "Table of Contents",
   "title_sidebar": "Contents",
   "toc_cell": false,
   "toc_position": {},
   "toc_section_display": true,
   "toc_window_display": false
  },
  "vscode": {
   "interpreter": {
    "hash": "31f2aee4e71d21fbe5cf8b01ff0e069b9275f58929596ceb00d14d90e3e16cd6"
   }
  }
 },
 "nbformat": 4,
 "nbformat_minor": 5
}
