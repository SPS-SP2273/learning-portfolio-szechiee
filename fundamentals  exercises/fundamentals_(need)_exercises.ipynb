{
 "cells": [
  {
   "attachments": {},
   "cell_type": "markdown",
   "id": "123456",
   "metadata": {},
   "source": [
    "<div style=\"text-align:left;font-size:2em\"><span style=\"font-weight:bolder;font-size:1.25em\">SP2273 | Learning Portfolio</span><br><br><span style=\"font-weight:bold;color:darkred\">Fundamentals (Need) Exercises</span></div>"
   ]
  },
  {
   "cell_type": "markdown",
   "id": "729d5d03-f36e-4f0e-a254-39ea1407725b",
   "metadata": {},
   "source": [
    "# Exercise 1"
   ]
  },
  {
   "cell_type": "markdown",
   "id": "b29925a1-6977-44d2-b531-a038609bd046",
   "metadata": {},
   "source": [
    "Features that I remember:"
   ]
  },
  {
   "cell_type": "markdown",
   "id": "156aea10-32ac-442e-a713-427872dc6cd3",
   "metadata": {},
   "source": [
    "```python\n",
    "# 1\n",
    "print()\n",
    "\n",
    "# 2\n",
    "import math\n",
    "math.sqrt()\n",
    "\n",
    "# 3\n",
    "import numpy as np\n",
    "np.sqrt([4,16,36])\n",
    "\n",
    "# 4\n",
    "\"Hello World\".split()\n",
    "```"
   ]
  },
  {
   "cell_type": "markdown",
   "id": "2eb90dbc-a5c3-4c3b-a7ba-7dfbf68ab33a",
   "metadata": {},
   "source": [
    "Features that I missed:"
   ]
  },
  {
   "cell_type": "markdown",
   "id": "2244d63c-8f5d-405d-b55a-51f93360b179",
   "metadata": {},
   "source": [
    "*name = sze chie,*\n",
    "*name == szechie,*\n",
    "*if and else block*"
   ]
  },
  {
   "cell_type": "markdown",
   "id": "8e9ad85c-a9da-4320-bd20-ff45e7410e1d",
   "metadata": {},
   "source": [
    "*() is used in functions and in math,*\n",
    "*[] is used for lists,*\n",
    "*{} is used for dictionaries*"
   ]
  },
  {
   "cell_type": "markdown",
   "id": "edeb50f4-5593-41dc-ad9e-bd928adaa6cb",
   "metadata": {},
   "source": [
    "# Exercise 2"
   ]
  },
  {
   "cell_type": "code",
   "execution_count": 1,
   "id": "5bbf1aef-29df-4fa0-8bad-70fa16442302",
   "metadata": {},
   "outputs": [
    {
     "name": "stdout",
     "output_type": "stream",
     "text": [
      "3 4 5.0\n"
     ]
    }
   ],
   "source": [
    "import math\n",
    "x,y=3,4\n",
    "z=math.sqrt(x**2+y**2)\n",
    "print(x,y,z)"
   ]
  },
  {
   "cell_type": "markdown",
   "id": "2cc756d3-781a-4deb-8c44-24fb2bd21057",
   "metadata": {},
   "source": [
    "# Exercise 3"
   ]
  },
  {
   "cell_type": "markdown",
   "id": "53e135be-16ab-4902-a995-9549a03be7f7",
   "metadata": {},
   "source": [
    "| **#** | **Term**     |                                                    **Description**                                                    |\r\n",
    "|-------|--------------|:---------------------------------------------------------------------------------------------------------------------:|\r\n",
    "| 1     | Function     |                                        Takes in an input and produces an output                                       |\r\n",
    "| 2     | Arguments    |                Value that is sent into a function to call and execute the function to produce an output               |\r\n",
    "| 3     | Comments     |                   Adding additional information to code without running it as Python will ignore it                   |\r\n",
    "| 4     | Indentations |                                            Used to define statement blocks                                            |\r\n",
    "| 5     | Packages     |                                Consists of several modules, allows others to reuse code                               |\r\n",
    "| 6     | .            | Known as the dot notation, it is used to indicate ownership and indicate which function to use in which class/package |\r\n",
    "| 7     | :            |                               Used to designate a block of code, eg. in an if-else block                              |\r\n",
    "| 8     | []           |                                             Used to store values in a list                                            |\r\n",
    "| 9     | [[[]]]       |                               Used to store values in a 2D-list, or lists within a list                               |\r\n",
    "| 10    | {}           |                                     Used to store key-value pairs in a dictionary                                     |          |"
   ]
  },
  {
   "cell_type": "markdown",
   "id": "9756a20a-c1f4-48bb-a1b3-1bd468b99bde",
   "metadata": {},
   "source": [
    "# Exercise 4"
   ]
  },
  {
   "cell_type": "code",
   "execution_count": 1,
   "id": "087a6ed3-d704-4ee1-8e54-7b43283bd5db",
   "metadata": {},
   "outputs": [
    {
     "data": {
      "text/plain": [
       "2.5"
      ]
     },
     "execution_count": 1,
     "metadata": {},
     "output_type": "execute_result"
    }
   ],
   "source": [
    "5/2"
   ]
  },
  {
   "cell_type": "markdown",
   "id": "b117daa3-c2a2-4b69-b8b5-925f43539e36",
   "metadata": {},
   "source": [
    "5/2: divides 5 normally by 2, result will be 2.5"
   ]
  },
  {
   "cell_type": "code",
   "execution_count": 2,
   "id": "af3bba51-55f3-4513-b79d-5dcd320b7751",
   "metadata": {},
   "outputs": [
    {
     "data": {
      "text/plain": [
       "2"
      ]
     },
     "execution_count": 2,
     "metadata": {},
     "output_type": "execute_result"
    }
   ],
   "source": [
    "5//2"
   ]
  },
  {
   "cell_type": "markdown",
   "id": "76dc7c71-5038-4130-9b2e-2722d0c8cd91",
   "metadata": {},
   "source": [
    "5//2: takes the integer of the result of 5/2, result will be 2"
   ]
  },
  {
   "cell_type": "code",
   "execution_count": 3,
   "id": "53ba5b2e-ac2e-4574-b42f-aac4e4ee0ec2",
   "metadata": {},
   "outputs": [
    {
     "data": {
      "text/plain": [
       "1"
      ]
     },
     "execution_count": 3,
     "metadata": {},
     "output_type": "execute_result"
    }
   ],
   "source": [
    "5%2"
   ]
  },
  {
   "cell_type": "markdown",
   "id": "e3412e77-c357-4e13-9004-29ed781a8ea3",
   "metadata": {},
   "source": [
    "5%2: gives the modulo of 5/2, result will be 1"
   ]
  }
 ],
 "metadata": {
  "kernelspec": {
   "display_name": "Python 3 (ipykernel)",
   "language": "python",
   "name": "python3"
  },
  "language_info": {
   "codemirror_mode": {
    "name": "ipython",
    "version": 3
   },
   "file_extension": ".py",
   "mimetype": "text/x-python",
   "name": "python",
   "nbconvert_exporter": "python",
   "pygments_lexer": "ipython3",
   "version": "3.11.5"
  },
  "toc": {
   "base_numbering": 1,
   "nav_menu": {},
   "number_sections": true,
   "sideBar": true,
   "skip_h1_title": false,
   "title_cell": "Table of Contents",
   "title_sidebar": "Contents",
   "toc_cell": false,
   "toc_position": {},
   "toc_section_display": true,
   "toc_window_display": false
  },
  "vscode": {
   "interpreter": {
    "hash": "31f2aee4e71d21fbe5cf8b01ff0e069b9275f58929596ceb00d14d90e3e16cd6"
   }
  }
 },
 "nbformat": 4,
 "nbformat_minor": 5
}
