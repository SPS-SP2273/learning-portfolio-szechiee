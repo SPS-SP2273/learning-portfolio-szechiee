{
 "cells": [
  {
   "attachments": {},
   "cell_type": "markdown",
   "id": "123456",
   "metadata": {},
   "source": [
    "<div style=\"text-align:left;font-size:2em\"><span style=\"font-weight:bolder;font-size:1.25em\">SP2273 | Learning Portfolio</span><br><br><span style=\"font-weight:bold;color:darkred\">Storing Data (Good)</span></div>"
   ]
  },
  {
   "attachments": {},
   "cell_type": "markdown",
   "id": "a52ba4a5",
   "metadata": {},
   "source": [
    "# Subsetting: Indexing and Slicing"
   ]
  },
  {
   "attachments": {},
   "cell_type": "markdown",
   "id": "7ccb4371",
   "metadata": {},
   "source": [
    "## Lists & Arrays in 1D | Subsetting & Indexing"
   ]
  },
  {
   "cell_type": "code",
   "execution_count": 2,
   "id": "d36c0715-7e39-44a7-a4af-2bc56c7b3de0",
   "metadata": {},
   "outputs": [],
   "source": [
    "import numpy as np\n",
    "py_list=[\"a1\", \"b2\", \"c3\", \"d4\", \"e5\",\n",
    "         \"f6\", \"g7\", \"h8\", \"i9\", \"j10\"]\n",
    "np_array=np.array(py_list)\n",
    "\n",
    "x = py_list"
   ]
  },
  {
   "cell_type": "code",
   "execution_count": 3,
   "id": "bfe38396-d4a3-455f-87e4-79d6efb2c337",
   "metadata": {},
   "outputs": [
    {
     "data": {
      "text/plain": [
       "'a1'"
      ]
     },
     "execution_count": 3,
     "metadata": {},
     "output_type": "execute_result"
    }
   ],
   "source": [
    "x[0]"
   ]
  },
  {
   "cell_type": "code",
   "execution_count": 4,
   "id": "4511cbf9-c33e-4173-adcd-2862dee403c8",
   "metadata": {},
   "outputs": [
    {
     "data": {
      "text/plain": [
       "'j10'"
      ]
     },
     "execution_count": 4,
     "metadata": {},
     "output_type": "execute_result"
    }
   ],
   "source": [
    "x[-1]"
   ]
  },
  {
   "cell_type": "code",
   "execution_count": 5,
   "id": "fca3a923-31d4-44db-ad20-919700ea9685",
   "metadata": {},
   "outputs": [
    {
     "data": {
      "text/plain": [
       "['a1', 'b2', 'c3']"
      ]
     },
     "execution_count": 5,
     "metadata": {},
     "output_type": "execute_result"
    }
   ],
   "source": [
    "x[0:3]"
   ]
  },
  {
   "cell_type": "code",
   "execution_count": 6,
   "id": "c574da55-a093-4293-b557-332bf2bb9b14",
   "metadata": {},
   "outputs": [
    {
     "data": {
      "text/plain": [
       "['b2', 'c3', 'd4', 'e5', 'f6']"
      ]
     },
     "execution_count": 6,
     "metadata": {},
     "output_type": "execute_result"
    }
   ],
   "source": [
    "x[1:6]"
   ]
  },
  {
   "cell_type": "code",
   "execution_count": 7,
   "id": "7592df2b-5824-4ce8-8041-2b0e41443d30",
   "metadata": {},
   "outputs": [
    {
     "data": {
      "text/plain": [
       "['b2', 'd4', 'f6']"
      ]
     },
     "execution_count": 7,
     "metadata": {},
     "output_type": "execute_result"
    }
   ],
   "source": [
    "x[1:6:2] #Index 1 to 5 in steps of 2"
   ]
  },
  {
   "cell_type": "code",
   "execution_count": 8,
   "id": "865cbad9-c714-4e0b-b948-dc96e24d8623",
   "metadata": {},
   "outputs": [
    {
     "data": {
      "text/plain": [
       "['f6', 'g7', 'h8', 'i9', 'j10']"
      ]
     },
     "execution_count": 8,
     "metadata": {},
     "output_type": "execute_result"
    }
   ],
   "source": [
    "x[5:] #Index 5 onwards"
   ]
  },
  {
   "cell_type": "code",
   "execution_count": 9,
   "id": "fa33e582-220d-46ff-994a-4734751a9e40",
   "metadata": {},
   "outputs": [
    {
     "data": {
      "text/plain": [
       "['a1', 'b2', 'c3', 'd4', 'e5']"
      ]
     },
     "execution_count": 9,
     "metadata": {},
     "output_type": "execute_result"
    }
   ],
   "source": [
    "x[:5] #Index 0 to Index 4"
   ]
  },
  {
   "cell_type": "code",
   "execution_count": 10,
   "id": "8e3c75fe-d4e1-4f42-8648-67564a243d79",
   "metadata": {},
   "outputs": [
    {
     "data": {
      "text/plain": [
       "['f6', 'e5', 'd4']"
      ]
     },
     "execution_count": 10,
     "metadata": {},
     "output_type": "execute_result"
    }
   ],
   "source": [
    "x[5:2:-1] #Index 5 to Index 2 from the back"
   ]
  },
  {
   "cell_type": "code",
   "execution_count": 11,
   "id": "7d71d7e8-aef2-4c68-94e0-eea3eeeb4d98",
   "metadata": {},
   "outputs": [
    {
     "data": {
      "text/plain": [
       "['j10', 'i9', 'h8', 'g7', 'f6', 'e5', 'd4', 'c3', 'b2', 'a1']"
      ]
     },
     "execution_count": 11,
     "metadata": {},
     "output_type": "execute_result"
    }
   ],
   "source": [
    "x[::-1] #Reverse the list"
   ]
  },
  {
   "cell_type": "markdown",
   "id": "620129dc-75c0-44bf-b01b-b157f3fe110e",
   "metadata": {},
   "source": [
    "Slicing with [i:j] means that the slice starts with the index i but ends on the index j-1"
   ]
  },
  {
   "attachments": {},
   "cell_type": "markdown",
   "id": "9e66f3f5",
   "metadata": {},
   "source": [
    "## Arrays only | Subsetting by masking"
   ]
  },
  {
   "cell_type": "code",
   "execution_count": 12,
   "id": "510906af-743a-41ed-898d-dc6b005922ca",
   "metadata": {},
   "outputs": [
    {
     "data": {
      "text/plain": [
       "array([False, False, False,  True,  True,  True,  True,  True,  True,\n",
       "        True])"
      ]
     },
     "execution_count": 12,
     "metadata": {},
     "output_type": "execute_result"
    }
   ],
   "source": [
    "np_array = np.array([1, 2, 3, 4, 5, 6, 7, 8, 9, 10])\n",
    "my_mask = np_array > 3\n",
    "my_mask"
   ]
  },
  {
   "cell_type": "code",
   "execution_count": 14,
   "id": "f12940be-6dfd-4d8c-b22f-e570fef3dc35",
   "metadata": {},
   "outputs": [
    {
     "data": {
      "text/plain": [
       "array([ 4,  5,  6,  7,  8,  9, 10])"
      ]
     },
     "execution_count": 14,
     "metadata": {},
     "output_type": "execute_result"
    }
   ],
   "source": [
    "np_array[my_mask] #Show the values that are True"
   ]
  },
  {
   "cell_type": "code",
   "execution_count": 15,
   "id": "f104b337-09b3-444a-a727-9bb36e7aa1e7",
   "metadata": {},
   "outputs": [
    {
     "data": {
      "text/plain": [
       "array([ 4,  5,  6,  7,  8,  9, 10])"
      ]
     },
     "execution_count": 15,
     "metadata": {},
     "output_type": "execute_result"
    }
   ],
   "source": [
    "np_array[np_array > 3]"
   ]
  },
  {
   "cell_type": "code",
   "execution_count": 16,
   "id": "10dfe179-32f1-4127-8d5c-ca8aca060867",
   "metadata": {},
   "outputs": [
    {
     "data": {
      "text/plain": [
       "array([1, 2, 3])"
      ]
     },
     "execution_count": 16,
     "metadata": {},
     "output_type": "execute_result"
    }
   ],
   "source": [
    "np_array[~(np_array > 3)]  # '~' means 'NOT', showing False values"
   ]
  },
  {
   "cell_type": "code",
   "execution_count": 18,
   "id": "72de3196-5b8f-4909-9111-b68b568d347b",
   "metadata": {},
   "outputs": [
    {
     "data": {
      "text/plain": [
       "array([4, 5, 6, 7])"
      ]
     },
     "execution_count": 18,
     "metadata": {},
     "output_type": "execute_result"
    }
   ],
   "source": [
    "np_array[(np_array > 3) & (np_array < 8)] # '&' means and, combining 1 mask with another, shows values when both masks are true"
   ]
  },
  {
   "cell_type": "code",
   "execution_count": 19,
   "id": "8b72bc2a-5842-4ee9-83b5-ec42b5c7df5f",
   "metadata": {},
   "outputs": [
    {
     "data": {
      "text/plain": [
       "array([ 1,  2,  9, 10])"
      ]
     },
     "execution_count": 19,
     "metadata": {},
     "output_type": "execute_result"
    }
   ],
   "source": [
    "np_array[(np_array < 3) | (np_array > 8)] # '|' means 'OR', shows values when either mask is true"
   ]
  },
  {
   "cell_type": "markdown",
   "id": "1997eb93-f51a-43a2-bc2b-fabe0fb037f5",
   "metadata": {},
   "source": [
    "Masking only works with numpy arrays"
   ]
  },
  {
   "cell_type": "markdown",
   "id": "5cc5567c-5333-4fef-89f4-12a9621140a6",
   "metadata": {},
   "source": [
    "~ is not, | is or, & is and"
   ]
  },
  {
   "attachments": {},
   "cell_type": "markdown",
   "id": "2b531b8e",
   "metadata": {},
   "source": [
    "## Lists & Arrays in 2D | Indexing & Slicing"
   ]
  },
  {
   "cell_type": "code",
   "execution_count": 20,
   "id": "45fe4975-4cf7-4d75-92ca-1843e1768ca3",
   "metadata": {},
   "outputs": [],
   "source": [
    "py_list_2d = [[1, \"A\"], [2, \"B\"], [3, \"C\"], [4, \"D\"],\n",
    "              [5, \"E\"], [6, \"F\"], [7, \"G\"], [8, \"H\"],\n",
    "              [9, \"I\"], [10, \"J\"]]\n",
    "\n",
    "np_array_2d = np.array(py_list_2d)"
   ]
  },
  {
   "cell_type": "code",
   "execution_count": 22,
   "id": "305e582f-3f47-42fe-b7f5-ba4b1ee40f0e",
   "metadata": {},
   "outputs": [
    {
     "name": "stdout",
     "output_type": "stream",
     "text": [
      "[4, 'D']\n",
      "['4' 'D']\n"
     ]
    }
   ],
   "source": [
    "print(py_list_2d[3])\n",
    "print(np_array_2d[3])"
   ]
  },
  {
   "cell_type": "code",
   "execution_count": 25,
   "id": "d3cbd3ed-9829-46c6-96f7-f8b462ce90d9",
   "metadata": {},
   "outputs": [
    {
     "name": "stdout",
     "output_type": "stream",
     "text": [
      "4\n",
      "4\n"
     ]
    }
   ],
   "source": [
    "print(py_list_2d[3][0])\n",
    "print(np_array_2d[3, 0]) #only 1 single pair of square brackets"
   ]
  },
  {
   "cell_type": "code",
   "execution_count": 27,
   "id": "55d15e49-4099-480f-8517-264b798e16c9",
   "metadata": {},
   "outputs": [
    {
     "name": "stdout",
     "output_type": "stream",
     "text": [
      "[[1, 'A'], [2, 'B'], [3, 'C']]\n",
      "[['1' 'A']\n",
      " ['2' 'B']\n",
      " ['3' 'C']]\n"
     ]
    }
   ],
   "source": [
    "print(py_list_2d[:3]) #first 3 elements\n",
    "print(np_array_2d[:3])"
   ]
  },
  {
   "cell_type": "code",
   "execution_count": 29,
   "id": "5d98e763-3139-4d94-bc30-b1a9ac2e360c",
   "metadata": {},
   "outputs": [
    {
     "name": "stdout",
     "output_type": "stream",
     "text": [
      "[1, 'A']\n",
      "['1' '2' '3']\n"
     ]
    }
   ],
   "source": [
    "print(py_list_2d[:3][0]) #Index 0 of first 3 elements\n",
    "print(np_array_2d[:3, 0]) #Gives first of the list from np_array_2d[:3]"
   ]
  },
  {
   "cell_type": "code",
   "execution_count": 30,
   "id": "edca8e2f-c111-4302-bce8-4f1a8f9f15e4",
   "metadata": {},
   "outputs": [
    {
     "name": "stdout",
     "output_type": "stream",
     "text": [
      "[4, 'D']\n",
      "['4' '5' '6']\n",
      "['1' '2' '3' '4' '5' '6' '7' '8' '9' '10']\n"
     ]
    }
   ],
   "source": [
    "print(py_list_2d[3:6][0])\n",
    "print(np_array_2d[3:6, 0])\n",
    "print(np_array_2d[:, 0])"
   ]
  },
  {
   "cell_type": "markdown",
   "id": "8ab7a3ff-f27a-4a5f-86f0-0641e5507f8d",
   "metadata": {},
   "source": [
    "Numpy arrays slicing syntax is more intuitive than lists, and are good for fast math operations, but lists are easier and more efficient in growing."
   ]
  },
  {
   "attachments": {},
   "cell_type": "markdown",
   "id": "50c975bf",
   "metadata": {},
   "source": [
    "## Growing lists"
   ]
  },
  {
   "cell_type": "code",
   "execution_count": 31,
   "id": "5cb77cd2-f817-47d5-9963-9e81f95ffd06",
   "metadata": {},
   "outputs": [
    {
     "data": {
      "text/plain": [
       "[1, 2, 1, 2, 1, 2, 1, 2, 1, 2]"
      ]
     },
     "execution_count": 31,
     "metadata": {},
     "output_type": "execute_result"
    }
   ],
   "source": [
    "x=[1,2]*5\n",
    "x"
   ]
  },
  {
   "cell_type": "code",
   "execution_count": 33,
   "id": "1009a4ff-2649-4bc8-a47a-f00450a5ae35",
   "metadata": {},
   "outputs": [
    {
     "data": {
      "text/plain": [
       "[1, 2, 3, 4]"
      ]
     },
     "execution_count": 33,
     "metadata": {},
     "output_type": "execute_result"
    }
   ],
   "source": [
    "x=[1]\n",
    "x= x + [2]\n",
    "x= x + [3]\n",
    "x= x + [4]\n",
    "x"
   ]
  },
  {
   "cell_type": "code",
   "execution_count": 34,
   "id": "88c77ace-8677-4bb7-bc01-927fc1c8b694",
   "metadata": {},
   "outputs": [
    {
     "data": {
      "text/plain": [
       "[1, 2, 3, 4]"
      ]
     },
     "execution_count": 34,
     "metadata": {},
     "output_type": "execute_result"
    }
   ],
   "source": [
    "x=[1]\n",
    "x+= [2]\n",
    "x+= [3]\n",
    "x+= [4]\n",
    "x"
   ]
  },
  {
   "cell_type": "code",
   "execution_count": 35,
   "id": "15a3110a-2a10-4d0b-a1d9-737f6369dfe9",
   "metadata": {},
   "outputs": [
    {
     "data": {
      "text/plain": [
       "[1, 2, 3, 4]"
      ]
     },
     "execution_count": 35,
     "metadata": {},
     "output_type": "execute_result"
    }
   ],
   "source": [
    "x=[1]\n",
    "x.append(2)\n",
    "x.append(3)\n",
    "x.append(4)\n",
    "x"
   ]
  },
  {
   "cell_type": "markdown",
   "id": "a459847a-7084-4c38-9cc8-c5514a4743d8",
   "metadata": {},
   "source": [
    "Execution speeds are different, append() runs about 1.5x faster than the rest"
   ]
  },
  {
   "cell_type": "code",
   "execution_count": 37,
   "id": "98744c4f-4f01-4af8-ad68-d8ba9c455d2f",
   "metadata": {},
   "outputs": [
    {
     "data": {
      "text/plain": [
       "[1, 2, 3, 4, 5, 6]"
      ]
     },
     "execution_count": 37,
     "metadata": {},
     "output_type": "execute_result"
    }
   ],
   "source": [
    "x=[1,2,3]\n",
    "x+=[4,5,6]\n",
    "x"
   ]
  },
  {
   "cell_type": "code",
   "execution_count": 39,
   "id": "b3581517-b7fc-4e74-87f0-cfc873fb50c4",
   "metadata": {},
   "outputs": [
    {
     "data": {
      "text/plain": [
       "[1, 2, 3, 4, 5, 6]"
      ]
     },
     "execution_count": 39,
     "metadata": {},
     "output_type": "execute_result"
    }
   ],
   "source": [
    "x=[1,2,3]\n",
    "x.extend([4,5,6]) #Add each element in list to x\n",
    "x"
   ]
  },
  {
   "cell_type": "code",
   "execution_count": 40,
   "id": "1a54e3da-f507-4aad-98a8-4f11ea6d7514",
   "metadata": {},
   "outputs": [
    {
     "data": {
      "text/plain": [
       "[1, 2, 3, [4, 5, 6]]"
      ]
     },
     "execution_count": 40,
     "metadata": {},
     "output_type": "execute_result"
    }
   ],
   "source": [
    "x=[1,2,3]\n",
    "x.append([4,5,6]) #Adds the list [4,5,6] to the next element of the list x\n",
    "x"
   ]
  },
  {
   "attachments": {},
   "cell_type": "markdown",
   "id": "15a89798",
   "metadata": {},
   "source": [
    "# Some loose ends"
   ]
  },
  {
   "attachments": {},
   "cell_type": "markdown",
   "id": "8f868148",
   "metadata": {},
   "source": [
    "## Tuples"
   ]
  },
  {
   "cell_type": "markdown",
   "id": "a3cc449e-d0fb-4379-a4e9-60db5783468f",
   "metadata": {},
   "source": [
    "Immutable sequences, cannot change their variables after creation"
   ]
  },
  {
   "cell_type": "code",
   "execution_count": 41,
   "id": "64dcac33-2e5f-43e5-bf48-7cdeae2f2cc9",
   "metadata": {},
   "outputs": [],
   "source": [
    "tpl = (1,2,3)"
   ]
  },
  {
   "cell_type": "code",
   "execution_count": 42,
   "id": "d96fb896-7382-4897-a9fb-0be4dd10e047",
   "metadata": {},
   "outputs": [
    {
     "data": {
      "text/plain": [
       "1"
      ]
     },
     "execution_count": 42,
     "metadata": {},
     "output_type": "execute_result"
    }
   ],
   "source": [
    "tpl[0]"
   ]
  },
  {
   "cell_type": "code",
   "execution_count": 43,
   "id": "dcdf60a4-e94c-4fc7-961f-4f9ec02f8280",
   "metadata": {},
   "outputs": [
    {
     "ename": "TypeError",
     "evalue": "'tuple' object does not support item assignment",
     "output_type": "error",
     "traceback": [
      "\u001b[1;31m---------------------------------------------------------------------------\u001b[0m",
      "\u001b[1;31mTypeError\u001b[0m                                 Traceback (most recent call last)",
      "Cell \u001b[1;32mIn[43], line 1\u001b[0m\n\u001b[1;32m----> 1\u001b[0m \u001b[43mtpl\u001b[49m\u001b[43m[\u001b[49m\u001b[38;5;241;43m0\u001b[39;49m\u001b[43m]\u001b[49m\u001b[38;5;241m=\u001b[39m\u001b[38;5;241m2\u001b[39m\n",
      "\u001b[1;31mTypeError\u001b[0m: 'tuple' object does not support item assignment"
     ]
    }
   ],
   "source": [
    "tpl[0]=2"
   ]
  },
  {
   "cell_type": "code",
   "execution_count": 44,
   "id": "9dbcd75a-bebd-4651-a102-db68efa6ebab",
   "metadata": {},
   "outputs": [
    {
     "ename": "TypeError",
     "evalue": "'tuple' object does not support item assignment",
     "output_type": "error",
     "traceback": [
      "\u001b[1;31m---------------------------------------------------------------------------\u001b[0m",
      "\u001b[1;31mTypeError\u001b[0m                                 Traceback (most recent call last)",
      "Cell \u001b[1;32mIn[44], line 1\u001b[0m\n\u001b[1;32m----> 1\u001b[0m \u001b[43mtpl\u001b[49m\u001b[43m[\u001b[49m\u001b[38;5;241;43m0\u001b[39;49m\u001b[43m]\u001b[49m\u001b[38;5;241m+\u001b[39m\u001b[38;5;241m=\u001b[39m\u001b[38;5;241m3\u001b[39m\n",
      "\u001b[1;31mTypeError\u001b[0m: 'tuple' object does not support item assignment"
     ]
    }
   ],
   "source": [
    "tpl[0]+=3"
   ]
  },
  {
   "attachments": {},
   "cell_type": "markdown",
   "id": "5d7edfb2",
   "metadata": {},
   "source": [
    "## Be VERY careful when copying"
   ]
  },
  {
   "cell_type": "code",
   "execution_count": 45,
   "id": "2c854990-b8ae-400e-8e3a-cd96f9c6a164",
   "metadata": {},
   "outputs": [],
   "source": [
    "x=[1,2,3]\n",
    "y=x\n",
    "z=x "
   ]
  },
  {
   "cell_type": "markdown",
   "id": "4922e8c2-42f8-4eea-8998-9f7eb8c328ed",
   "metadata": {},
   "source": [
    "Deep copy, the locations of y and z are the same as the location of x. If the values of x change, the values of y and z will change as well."
   ]
  },
  {
   "cell_type": "code",
   "execution_count": 46,
   "id": "ffc6845a-8988-4d65-b2e5-e6bd9e3177c7",
   "metadata": {},
   "outputs": [],
   "source": [
    "x=[1,2,3]\n",
    "y=x.copy()\n",
    "z=y.copy()"
   ]
  },
  {
   "cell_type": "markdown",
   "id": "d2f35e8e-2d0b-4218-82fb-37ad70856681",
   "metadata": {},
   "source": [
    "Shallow copy, only the values of x and y are copied over"
   ]
  }
 ],
 "metadata": {
  "kernelspec": {
   "display_name": "Python 3 (ipykernel)",
   "language": "python",
   "name": "python3"
  },
  "language_info": {
   "codemirror_mode": {
    "name": "ipython",
    "version": 3
   },
   "file_extension": ".py",
   "mimetype": "text/x-python",
   "name": "python",
   "nbconvert_exporter": "python",
   "pygments_lexer": "ipython3",
   "version": "3.11.5"
  },
  "toc": {
   "base_numbering": 1,
   "nav_menu": {},
   "number_sections": true,
   "sideBar": true,
   "skip_h1_title": false,
   "title_cell": "Table of Contents",
   "title_sidebar": "Contents",
   "toc_cell": false,
   "toc_position": {},
   "toc_section_display": true,
   "toc_window_display": false
  },
  "vscode": {
   "interpreter": {
    "hash": "31f2aee4e71d21fbe5cf8b01ff0e069b9275f58929596ceb00d14d90e3e16cd6"
   }
  }
 },
 "nbformat": 4,
 "nbformat_minor": 5
}
